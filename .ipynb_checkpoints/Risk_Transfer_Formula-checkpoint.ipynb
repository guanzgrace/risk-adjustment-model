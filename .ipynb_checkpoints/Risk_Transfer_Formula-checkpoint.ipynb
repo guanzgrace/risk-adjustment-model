{
 "cells": [
  {
   "cell_type": "markdown",
   "metadata": {},
   "source": [
    "# Risk Transfer Formula"
   ]
  },
  {
   "cell_type": "markdown",
   "metadata": {},
   "source": [
    "Current Todo List:\n",
    "    * read from sas files\n",
    "    * integrate PLRS from algorex\n",
    "    * figure out how to use GCF"
   ]
  },
  {
   "cell_type": "markdown",
   "metadata": {},
   "source": [
    "## 0. Introduction and Setup\n",
    "The goal of the risk transfer formula (described here: https://www.cms.gov/mmrr/Downloads/MMRR2014_004_03_a04.pdf) is to take the liability risk, allowable premium rating, actuarial value, induced demand, geographic cost, and statewide average premium to calculate transfers among plans."
   ]
  },
  {
   "cell_type": "code",
   "execution_count": 1,
   "metadata": {
    "collapsed": true
   },
   "outputs": [],
   "source": [
    "import math\n",
    "import numpy as np \n",
    "import pandas as pd\n",
    "\n",
    "data = pd.read_csv(\"data/fakedata-1.csv\")"
   ]
  },
  {
   "cell_type": "markdown",
   "metadata": {},
   "source": [
    "## 1. Formula\n",
    "The transfer formula averages all risk scores in a plan, makes certain adjustments, and then calculates the funds transfered between plans. In the formula, _i_ represents a plan (i.e. bronze, gold, silver, platinum, etc.), of which there are N, numbered 1, 2, ... N. \n",
    "\n",
    "The formula is:\n",
    "![The Risk Transfer Formula](images/TransferFormula.PNG)"
   ]
  },
  {
   "cell_type": "markdown",
   "metadata": {},
   "source": [
    "## 2. Definitions of Factors within the Risk Transfer Formula\n",
    "First, I define five plans: bronze, silver, gold, platinum, and catastrophic. Next, I alphabetically define ARF, AV, GCF, IDF, PLRS, and S, the components to be used in the calculation."
   ]
  },
  {
   "cell_type": "code",
   "execution_count": 2,
   "metadata": {
    "collapsed": true
   },
   "outputs": [],
   "source": [
    "plans = [\"bronze\", \"silver\", \"gold\", \"platinum\", \"catastrophic\"]\n",
    "ARF = dict()\n",
    "AV = dict()\n",
    "GCF = dict()\n",
    "IDF = dict()\n",
    "PLRS = dict()\n",
    "S = dict()"
   ]
  },
  {
   "cell_type": "markdown",
   "metadata": {},
   "source": [
    "### 2a. Allowable Rating Factor (ARF)\n",
    "ARF reflects the relative premium that plans are permitted to charge, given the allowable rating factors of its enrollees. ARF only adjusts for age rating, not any other factor. Age rating is generally on the 3:1 ratio federal age rating curve, although in different states this could be 2:1 or 2.5:1. \n",
    "\n",
    "Todo: look into auto calculating the values so they will not have to be manually inputted through a csv."
   ]
  },
  {
   "cell_type": "code",
   "execution_count": 6,
   "metadata": {},
   "outputs": [
    {
     "name": "stdout",
     "output_type": "stream",
     "text": [
      "ARF values: {'bronze': 1.8258516746411475, 'silver': 1.8164230769230769, 'gold': 1.8631691542288544, 'platinum': 1.7880721153846155, 'catastrophic': 1.7458799999999997}\n"
     ]
    }
   ],
   "source": [
    "# define ARF - age rating adjustment\n",
    "class Federal_Age_Rating_Curve:\n",
    "    def __init__(self): \n",
    "        pass\n",
    "    \n",
    "    def set_age_curve_values(self):\n",
    "        self.scores = pd.read_csv(\"federal_age_rating_curve_3-1.csv\")\n",
    "    \n",
    "    def generate_one_score(self, age):\n",
    "        if age <= 24:\n",
    "            return 1.0\n",
    "        elif age >= 64:\n",
    "            return 3.0\n",
    "        else:\n",
    "            score = self.scores.where(self.scores[\"Age\"] == age).dropna()\n",
    "            return score[\"Premium_Ratio\"].get_value(score.first_valid_index())\n",
    "    \n",
    "    def generate_average_score(self, ages):\n",
    "        # faster way: count how many of each age there is in ages and then multiply by cost and add\n",
    "        sum_scores = 0\n",
    "        count = 0\n",
    "        for age in ages:\n",
    "            sum_scores = sum_scores + self.generate_one_score(age)\n",
    "            count = count + 1\n",
    "        if count == 0:\n",
    "            return 0\n",
    "        return sum_scores / count\n",
    "\n",
    "f = Federal_Age_Rating_Curve()\n",
    "f.set_age_curve_values()\n",
    "\n",
    "for plan in plans:\n",
    "    this_plan_data = data.where(data[\"Plan\"] == plan).dropna()\n",
    "    this_plan_ages = this_plan_data[\"Age\"]\n",
    "    ARF[plan] = f.generate_average_score(this_plan_ages)\n",
    "\n",
    "print(\"ARF values: \" + str(ARF))"
   ]
  },
  {
   "cell_type": "markdown",
   "metadata": {},
   "source": [
    "### 2b. Actuarial Value (AV)\n",
    "AV is associated with each plan's metal level. AV measures the proportion of enrollees' total medical expenditures paid by the plan. The values here are copied from Exhibit 1 on page E7 of the Risk Transfer Formula paper."
   ]
  },
  {
   "cell_type": "code",
   "execution_count": 8,
   "metadata": {},
   "outputs": [
    {
     "name": "stdout",
     "output_type": "stream",
     "text": [
      "AV values: {'bronze': 0.6, 'silver': 0.7, 'gold': 0.8, 'platinum': 0.9, 'catastrophic': 0.57}\n"
     ]
    }
   ],
   "source": [
    "# define AV\n",
    "AV[\"bronze\"] = 0.6\n",
    "AV[\"silver\"] = 0.7\n",
    "AV[\"gold\"] = 0.8\n",
    "AV[\"platinum\"] = 0.9\n",
    "AV[\"catastrophic\"] = 0.57\n",
    "\n",
    "print(\"AV values: \" + str(AV))"
   ]
  },
  {
   "cell_type": "markdown",
   "metadata": {},
   "source": [
    "According to this article: https://www.cms.gov/CCIIO/Resources/Regulations-and-Guidance/Downloads/Revised-Final-2018-AV-Methodology-41317.pdf these values can change by -0.04 +0.02, except bronze, when can be up to -0.04 +0.05. The statute groups health plans into four tiers: bronze, with an AV of 60 percent; silver, with an AV of 70 percent; gold,\n",
    "with an AV of 80 percent; and platinum, with an AV of 90 percent. Here are the steps for calculating the 2018 AV:\n",
    "- Step 1: Set the metal tier (by identifying the continuance tables on which the calculation will be based)\n",
    "- Step 2: Calculate average expenses over all enrollees (by identifying the denominator of the AV calculation, the average cost over all enrollees for a plan of the specified metal level)\n",
    "- Step 3: Calculate expenses covered by employer contributions to HSAs and HRAs, if applicable\n",
    "- Step 4: Calculate plan-covered expenses for spending before the deductible is met\n",
    "- Step 5: Determine applicable enrollee spending level for MOOP\n",
    "- Step 6: Calculate plan-covered expenses for spending between the deductible and the MOOP (in the coinsurance range)\n",
    "- Step 7: Calculate plan-covered expenses for spending above the MOOP\n",
    "- Step 8: Apply tiered network, if applicable (to calculate AV in Tier 2)\n",
    "- Step 9: Calculate AV and corresponding metal tier (to assign AV and metal tier)\n",
    "\n",
    "Other necessary background information includes necessary deductibles, coinsurance, and MOOPs consistent with the choice of integrated or separate deductibles and MOOPs for medical and drug expenses.\n",
    "\n",
    "Helpful for me: what is MOOP? Maximum out of pocket payment."
   ]
  },
  {
   "cell_type": "code",
   "execution_count": null,
   "metadata": {
    "collapsed": true
   },
   "outputs": [],
   "source": []
  },
  {
   "cell_type": "markdown",
   "metadata": {},
   "source": [
    "### 2c. Geographic Cost Factor (GCF)\n",
    "GCF reflects the medical cost structure in the geographic location of the plan's enrollees. \"The enrollment-weighted statewide average of plan GCF values equals 1.0, so deviations from 1.0 can be interpreted as the percentage by which any geographic area’s costs deviate from the state average. In other words, a GCF equal to 1.15 indicates that the plan operates in a geographic area where costs are, on average, 15 percent higher than the statewide average\" (Page E9).\n",
    "\n",
    "The GCF is calculated based on the observed average silver plan premiums in a geographic area relative to the state-wide average silver plan premium.\n",
    "\n",
    "N.B. Since Oscar only operates in one area, I currently simplified and set all of these values to 1.0. GCF should be a weighted average of all of the states that the patients are from."
   ]
  },
  {
   "cell_type": "code",
   "execution_count": 17,
   "metadata": {
    "collapsed": true
   },
   "outputs": [],
   "source": [
    "# define GCF\n",
    "GCF[\"bronze\"] = 1.0\n",
    "GCF[\"silver\"] = 1.0\n",
    "GCF[\"gold\"] = 1.0\n",
    "GCF[\"platinum\"] = 1.0\n",
    "GCF[\"catastrophic\"] = 1.0"
   ]
  },
  {
   "cell_type": "markdown",
   "metadata": {},
   "source": [
    "### 2d. Induced Demand Factor (IDF)\n",
    "IDF reflects the anticipated induced demand associated with the plan's cost sharing (metal) level. The values here are copied from Exhibit 2 on page E7 of the Risk Transfer Formula paper."
   ]
  },
  {
   "cell_type": "code",
   "execution_count": 16,
   "metadata": {
    "collapsed": true
   },
   "outputs": [],
   "source": [
    "# define IDF\n",
    "IDF[\"bronze\"] = 1.0\n",
    "IDF[\"silver\"] = 1.03\n",
    "IDF[\"gold\"] = 1.08\n",
    "IDF[\"platinum\"] = 1.15\n",
    "IDF[\"catastrophic\"] = 1.0"
   ]
  },
  {
   "cell_type": "markdown",
   "metadata": {},
   "source": [
    "### 2e. Plan Liability Risk Score (PLRS)\n",
    "PLRS reflects the plan’s actuarial value as well as the plan’s enrollee health status risk (including health risk due to age). PLRS is calculated in the Risk Model Python notebook, adapted from Algorex Health's Github.\n",
    "\n",
    "Temp values are 1.0.\n",
    "\n",
    "https://github.com/guanzgrace/hcc-python"
   ]
  },
  {
   "cell_type": "code",
   "execution_count": 13,
   "metadata": {
    "collapsed": true
   },
   "outputs": [],
   "source": [
    "# define PLRS \n",
    "PLRS[\"bronze\"] = 1.0\n",
    "PLRS[\"silver\"] = 1.0\n",
    "PLRS[\"gold\"] = 1.0\n",
    "PLRS[\"platinum\"] = 1.0\n",
    "PLRS[\"catastrophic\"] = 1.0"
   ]
  },
  {
   "cell_type": "markdown",
   "metadata": {},
   "source": [
    "### 2f. Share of Marketwide Enrollment (S)\n",
    "S reflects the share of marketwide enrollement each plan has."
   ]
  },
  {
   "cell_type": "code",
   "execution_count": 10,
   "metadata": {},
   "outputs": [
    {
     "name": "stdout",
     "output_type": "stream",
     "text": [
      "S values: {'bronze': 0.20899999999999999, 'silver': 0.182, 'gold': 0.20100000000000001, 'platinum': 0.20799999999999999, 'catastrophic': 0.20000000000000001}\n"
     ]
    }
   ],
   "source": [
    "# define S\n",
    "\n",
    "for plan in plans:\n",
    "    this_plan_data = data.where(data[\"Plan\"] == plan).dropna()\n",
    "    S[plan] = this_plan_data.size / data.size\n",
    "\n",
    "print(\"S values: \" + str(S))"
   ]
  },
  {
   "cell_type": "markdown",
   "metadata": {},
   "source": [
    "### 2g. Other potentially useful definitions\n",
    "P_bar = average revenue\n",
    "\n",
    "PL_bar = average liability"
   ]
  },
  {
   "cell_type": "markdown",
   "metadata": {},
   "source": [
    "## 3. Implementation of the Risk Transfer Formula"
   ]
  },
  {
   "cell_type": "code",
   "execution_count": 19,
   "metadata": {},
   "outputs": [
    {
     "name": "stdout",
     "output_type": "stream",
     "text": [
      "T: {'bronze': 1.7467253116802404, 'silver': 1.9309704863070949, 'gold': 2.1967712046515766, 'platinum': 2.4384665794818261, 'catastrophic': 1.6737286034187595}\n"
     ]
    }
   ],
   "source": [
    "P_bar = 1.0\n",
    "T = dict()\n",
    "\n",
    "first_numerator = dict()\n",
    "second_numerator = dict()\n",
    "first_denominator = 0\n",
    "second_denominator = 0\n",
    "\n",
    "for plan in plans:\n",
    "    first_numerator[plan] = PLRS[plan] * IDF[plan] * GCF[plan]\n",
    "    second_numerator[plan] = AV[plan] * ARF[plan] * IDF[plan] * GCF[plan]\n",
    "    first_denominator += S[plan] * first_numerator[plan]\n",
    "    second_denominator += S[plan] * second_numerator[plan]\n",
    "    \n",
    "for plan in plans:\n",
    "    T[plan] = ((first_numerator[plan] / first_denominator) +\n",
    "        (second_numerator[plan] / second_denominator)) * P_bar\n",
    "    \n",
    "print(\"T: \" + str(T))"
   ]
  },
  {
   "cell_type": "code",
   "execution_count": null,
   "metadata": {
    "collapsed": true
   },
   "outputs": [],
   "source": []
  }
 ],
 "metadata": {
  "kernelspec": {
   "display_name": "Python 3",
   "language": "python",
   "name": "python3"
  },
  "language_info": {
   "codemirror_mode": {
    "name": "ipython",
    "version": 3
   },
   "file_extension": ".py",
   "mimetype": "text/x-python",
   "name": "python",
   "nbconvert_exporter": "python",
   "pygments_lexer": "ipython3",
   "version": "3.6.1"
  }
 },
 "nbformat": 4,
 "nbformat_minor": 2
}
