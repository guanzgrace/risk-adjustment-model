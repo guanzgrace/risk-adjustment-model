{
 "cells": [
  {
   "cell_type": "code",
   "execution_count": 5,
   "metadata": {
    "collapsed": true
   },
   "outputs": [],
   "source": [
    "import pandas as pd\n",
    "import numpy as np\n",
    "import os"
   ]
  },
  {
   "cell_type": "code",
   "execution_count": 6,
   "metadata": {
    "collapsed": true
   },
   "outputs": [],
   "source": [
    "# this script parses important insurer information from an xlsx file \n",
    "# original data can be found here: https://www.cms.gov/apps/mlr/mlr-search.aspx\n",
    "\n",
    "# author: Grace Guan\n",
    "# date created: 11/24/17"
   ]
  },
  {
   "cell_type": "code",
   "execution_count": 7,
   "metadata": {
    "collapsed": true
   },
   "outputs": [],
   "source": [
    "#os.chdir('/new_input')\n",
    "#FileList = glob.glob('*.xls')\n",
    "#print(FileList)\n",
    "\n",
    "#for File in FileList:\n",
    "    #for x in File:\n",
    "\n"
   ]
  },
  {
   "cell_type": "code",
   "execution_count": 17,
   "metadata": {},
   "outputs": [],
   "source": [
    "def parse_input(df, xls):\n",
    "    # hios id is 11C (9,1) in sheet 0\n",
    "    # company name 4C (2,1) is in sheet 0\n",
    "    # company state is 12C (10,1) in sheet 0\n",
    "    sheet0 = xls.parse(0)\n",
    "    # print(sheet0.iloc[9,1]) hios id\n",
    "    # print(sheet0.iloc[2,1]) company name\n",
    "    # print(sheet0.iloc[10,1]) company state \n",
    "\n",
    "    # individual member months is in section 1.7 59E (57,3) in sheet 1\n",
    "    # small group member months is in section 1.7 59K (57,9) in sheet 1\n",
    "    sheet1 = xls.parse(1)\n",
    "    # print(sheet1.iloc[57,3]) individual member months\n",
    "    # print(sheet1.iloc[57,9]) small group member months\n",
    "\n",
    "    # reinsurance is in section 1.9 which is 15E in sheet 2\n",
    "    # individual risk adjustment is in section 1.10 which is 16E in sheet 2\n",
    "    # small group risk adjustment is in section 1.10 which is 16K in sheet 2\n",
    "    sheet2 = xls.parse(2)\n",
    "    # print(sheet2.iloc[13,3]) reinsurance\n",
    "    # print(sheet2.iloc[14,3]) individual risk adjustment\n",
    "    # print(sheet2.iloc[14,9]) small group risk adjustment\n",
    "    \n",
    "    df.loc[df.shape[0]] = [sheet0.iloc[9,1], # hios id\n",
    "                           sheet0.iloc[2,1],  # company name\n",
    "                           sheet0.iloc[10,1], # company state\n",
    "                           sheet1.iloc[57,3], # individual member months\n",
    "                           sheet1.iloc[57,9], # small group member months\n",
    "                           sheet2.iloc[13,3], # reinsurance\n",
    "                           sheet2.iloc[14,3], # individual risk adjustment\n",
    "                           sheet2.iloc[14,9]] # small group risk adjustment\n",
    "    \n",
    "    \n",
    "    print(\"parse_input defined\")"
   ]
  },
  {
   "cell_type": "code",
   "execution_count": 19,
   "metadata": {},
   "outputs": [
    {
     "name": "stdout",
     "output_type": "stream",
     "text": [
      "parse_input defined\n",
      "  HIOS_ID        COMPANY_NAME        STATE IND_MEMBER_MONTHS SG_MEMBER_MONTHS  \\\n",
      "0     NaN  Optima Health Plan  Grand Total            199052           546331   \n",
      "\n",
      "  REINSURANCE IND_RISK_ADJ SG_RISK_ADJ  \n",
      "0    14833381     19660297     1872934  \n"
     ]
    }
   ],
   "source": [
    "# create the dataframe\n",
    "mydf = pd.DataFrame(columns=('HIOS_ID', 'COMPANY_NAME', 'STATE', \n",
    "                        'IND_MEMBER_MONTHS', 'SG_MEMBER_MONTHS',\n",
    "                       'REINSURANCE', 'IND_RISK_ADJ', 'SG_RISK_ADJ'))\n",
    "# read in the file\n",
    "myxls = pd.ExcelFile(\"input/sample_insurer_2014.xlsx\")\n",
    "\n",
    "parse_input(mydf, myxls)\n",
    "\n",
    "print(mydf)"
   ]
  },
  {
   "cell_type": "code",
   "execution_count": null,
   "metadata": {
    "collapsed": true
   },
   "outputs": [],
   "source": []
  }
 ],
 "metadata": {
  "kernelspec": {
   "display_name": "Python 3",
   "language": "python",
   "name": "python3"
  },
  "language_info": {
   "codemirror_mode": {
    "name": "ipython",
    "version": 3
   },
   "file_extension": ".py",
   "mimetype": "text/x-python",
   "name": "python",
   "nbconvert_exporter": "python",
   "pygments_lexer": "ipython3",
   "version": "3.6.1"
  }
 },
 "nbformat": 4,
 "nbformat_minor": 2
}
