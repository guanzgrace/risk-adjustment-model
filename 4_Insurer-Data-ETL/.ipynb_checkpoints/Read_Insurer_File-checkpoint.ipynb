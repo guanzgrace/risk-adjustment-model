{
 "cells": [
  {
   "cell_type": "code",
   "execution_count": 70,
   "metadata": {
    "collapsed": true
   },
   "outputs": [],
   "source": [
    "import pandas as pd\n",
    "import numpy as np\n",
    "import xlrd\n",
    "import glob\n",
    "import os"
   ]
  },
  {
   "cell_type": "code",
   "execution_count": 71,
   "metadata": {
    "collapsed": true
   },
   "outputs": [],
   "source": [
    "# this script parses important insurer information from an xlsx file \n",
    "# original data can be found here: https://www.cms.gov/apps/mlr/mlr-search.aspx\n",
    "\n",
    "# author: Grace Guan\n",
    "# date created: 11/24/17"
   ]
  },
  {
   "cell_type": "code",
   "execution_count": 77,
   "metadata": {},
   "outputs": [],
   "source": [
    "def parse_input(df14, df15, df16, xls):\n",
    "    \n",
    "    sheet0 = xls.parse(0)\n",
    "    \n",
    "    # 2014, 2015, and 2016 format\n",
    "    if sheet0.iloc[2,0] == 'Company Name:': # should say \"Company Name:\"\n",
    "        # hios id is 11C (9,1) in sheet 0\n",
    "        # company name 4C (2,1) is in sheet 0\n",
    "        # company state is 12C (10,1) in sheet 0\n",
    "        # print(sheet0.iloc[9,1]) hios id\n",
    "        # print(sheet0.iloc[2,1]) company name\n",
    "        # print(sheet0.iloc[10,1]) company state \n",
    "        # print(sheet0.iloc[16,1]) reporting year\n",
    "        reporting_year = sheet0.iloc[16,1]\n",
    "        if reporting_year == 'No':\n",
    "            reporting_year = sheet0.iloc[17,1]\n",
    "        \n",
    "        # individual member months is in section 1.7 59E (57,3) in sheet 1\n",
    "        # small group member months is in section 1.7 59K (57,9) in sheet 1\n",
    "        \n",
    "        sheet1 = xls.parse(1)\n",
    "        # print(sheet1.iloc[57,3]) individual member months\n",
    "        # print(sheet1.iloc[57,9]) small group member months\n",
    "\n",
    "        # reinsurance is in section 1.9 which is 15E in sheet 2\n",
    "        # individual risk adjustment is in section 1.10 which is 16E in sheet 2\n",
    "        # small group risk adjustment is in section 1.10 which is 16K in sheet 2\n",
    "        sheet2 = xls.parse(2)\n",
    "        # print(sheet2.iloc[13,3]) reinsurance\n",
    "        # print(sheet2.iloc[14,3]) individual risk adjustment\n",
    "        # print(sheet2.iloc[14,9]) small group risk adjustment\n",
    "\n",
    "        if reporting_year == '2014':\n",
    "            df14.loc[df14.shape[0]] = [sheet0.iloc[9,1], # hios id\n",
    "                                   sheet0.iloc[2,1],  # company name\n",
    "                                   sheet0.iloc[10,1], # company state\n",
    "                                   sheet1.iloc[57,3], # individual member months\n",
    "                                   sheet1.iloc[57,9], # small group member months\n",
    "                                   sheet2.iloc[13,3], # reinsurance\n",
    "                                   sheet2.iloc[14,3], # individual risk adjustment\n",
    "                                   sheet2.iloc[14,9]] # small group risk adjustment\n",
    "        elif reporting_year == '2015':\n",
    "            df15.loc[df15.shape[0]] = [sheet0.iloc[9,1], # hios id\n",
    "                                   sheet0.iloc[2,1],  # company name\n",
    "                                   sheet0.iloc[10,1], # company state\n",
    "                                   sheet1.iloc[57,3], # individual member months\n",
    "                                   sheet1.iloc[57,9], # small group member months\n",
    "                                   sheet2.iloc[13,3], # reinsurance\n",
    "                                   sheet2.iloc[14,3], # individual risk adjustment\n",
    "                                   sheet2.iloc[14,9]] # small group risk adjustment\n",
    "        elif reporting_year == '2016':\n",
    "            df16.loc[df16.shape[0]] = [sheet0.iloc[9,1], # hios id\n",
    "                                   sheet0.iloc[2,1],  # company name\n",
    "                                   sheet0.iloc[10,1], # company state\n",
    "                                   sheet1.iloc[57,3], # individual member months\n",
    "                                   sheet1.iloc[57,9], # small group member months\n",
    "                                   sheet2.iloc[13,3], # reinsurance\n",
    "                                   sheet2.iloc[14,3], # individual risk adjustment\n",
    "                                   sheet2.iloc[14,9]] # small group risk adjustment\n",
    "    # else: # 2011, 2012, 2013 format\n",
    "        #print(sheet0.iloc[9,3]) # hios id\n",
    "        #print(sheet0.iloc[4,2]) # company name\n",
    "        #print(sheet0.iloc[8,7]) # company state\n",
    "        #print(sheet0.iloc[79,8]) # individual member months\n",
    "        #print(sheet0.iloc[79,13]) # small group member months\n",
    "        # reinsurance, risk adjustment missing?\n",
    "    \n",
    "    #print(\"parse_input defined\")"
   ]
  },
  {
   "cell_type": "code",
   "execution_count": 79,
   "metadata": {},
   "outputs": [
    {
     "name": "stdout",
     "output_type": "stream",
     "text": [
      "['sample_insurer_2011.xlsx', 'sample_insurer_2014.xlsx', 'sample_insurer_2015.xlsx', 'sample_insurer_2016.xlsx']\n",
      "There were 0 encrypted files.\n",
      "  HIOS_ID        COMPANY_NAME        STATE IND_MEMBER_MONTHS SG_MEMBER_MONTHS  \\\n",
      "0     NaN  Optima Health Plan  Grand Total            199052           546331   \n",
      "\n",
      "  REINSURANCE IND_RISK_ADJ SG_RISK_ADJ  \n",
      "0    14833381     19660297     1872934  \n",
      "  HIOS_ID                               COMPANY_NAME        STATE  \\\n",
      "0   18628  Aetna Health Inc. (a Florida corporation)      Florida   \n",
      "1     NaN      The Chesapeake Life Insurance Company  Grand Total   \n",
      "\n",
      "  IND_MEMBER_MONTHS SG_MEMBER_MONTHS  REINSURANCE  IND_RISK_ADJ  SG_RISK_ADJ  \n",
      "0            485275           824836   10355176.3  -28025200.75   5437975.83  \n",
      "1               894                0          0.0          0.00         0.00  \n",
      "Empty DataFrame\n",
      "Columns: [HIOS_ID, COMPANY_NAME, STATE, IND_MEMBER_MONTHS, SG_MEMBER_MONTHS, REINSURANCE, IND_RISK_ADJ, SG_RISK_ADJ]\n",
      "Index: []\n"
     ]
    }
   ],
   "source": [
    "# create the dataframe\n",
    "\n",
    "errorcount = 0\n",
    "\n",
    "mydf14 = pd.DataFrame(columns=('HIOS_ID', 'COMPANY_NAME', 'STATE', \n",
    "                        'IND_MEMBER_MONTHS', 'SG_MEMBER_MONTHS',\n",
    "                       'REINSURANCE', 'IND_RISK_ADJ', 'SG_RISK_ADJ'))\n",
    "mydf15 = pd.DataFrame(columns=('HIOS_ID', 'COMPANY_NAME', 'STATE', \n",
    "                        'IND_MEMBER_MONTHS', 'SG_MEMBER_MONTHS',\n",
    "                       'REINSURANCE', 'IND_RISK_ADJ', 'SG_RISK_ADJ'))\n",
    "mydf16 = pd.DataFrame(columns=('HIOS_ID', 'COMPANY_NAME', 'STATE', \n",
    "                        'IND_MEMBER_MONTHS', 'SG_MEMBER_MONTHS',\n",
    "                       'REINSURANCE', 'IND_RISK_ADJ', 'SG_RISK_ADJ'))\n",
    "\n",
    "os.chdir(os.getcwd())\n",
    "FileList = glob.glob('s*.xlsx')\n",
    "print(FileList)\n",
    "\n",
    "for File in FileList:\n",
    "    myxls = pd.ExcelFile(File)\n",
    "\n",
    "    try:\n",
    "        parse_input(mydf14, mydf15, mydf16, myxls)\n",
    "    except xlrd.XLRDError:\n",
    "        errorcount = errorcount + 1\n",
    "        pass\n",
    "\n",
    "\n",
    "print(\"There were \" + str(errorcount) + \" encrypted files.\")\n",
    "print(mydf14)\n",
    "print(mydf15)\n",
    "print(mydf16)"
   ]
  },
  {
   "cell_type": "code",
   "execution_count": 80,
   "metadata": {},
   "outputs": [
    {
     "name": "stdout",
     "output_type": "stream",
     "text": [
      "C:\\Users\\guanz\\Dropbox\\0_Princeton\\Fall_2017\\JIW\\TestModel\\4_Insurer-Data-ETL\\input\n"
     ]
    }
   ],
   "source": [
    "print(os.getcwd())"
   ]
  },
  {
   "cell_type": "code",
   "execution_count": null,
   "metadata": {
    "collapsed": true
   },
   "outputs": [],
   "source": []
  }
 ],
 "metadata": {
  "kernelspec": {
   "display_name": "Python 3",
   "language": "python",
   "name": "python3"
  },
  "language_info": {
   "codemirror_mode": {
    "name": "ipython",
    "version": 3
   },
   "file_extension": ".py",
   "mimetype": "text/x-python",
   "name": "python",
   "nbconvert_exporter": "python",
   "pygments_lexer": "ipython3",
   "version": "3.6.1"
  }
 },
 "nbformat": 4,
 "nbformat_minor": 2
}
