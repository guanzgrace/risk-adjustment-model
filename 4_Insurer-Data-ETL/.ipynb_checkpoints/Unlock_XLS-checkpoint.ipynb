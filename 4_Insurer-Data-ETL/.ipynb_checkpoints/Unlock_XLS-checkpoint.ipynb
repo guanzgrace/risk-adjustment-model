{
 "cells": [
  {
   "cell_type": "code",
   "execution_count": null,
   "metadata": {
    "collapsed": true
   },
   "outputs": [],
   "source": [
    "import pandas as pd\n",
    "import numpy as np\n",
    "import xlrd\n",
    "import glob\n",
    "import os\n",
    "import csv\n",
    "import unicodecsv\n",
    "import win32com.client\n",
    "xcl = win32com.client.Dispatch(\"Excel.Application\")\n",
    "xcl.DisplayAlerts = False"
   ]
  },
  {
   "cell_type": "code",
   "execution_count": null,
   "metadata": {
    "collapsed": true
   },
   "outputs": [],
   "source": [
    "# new idea: unlock xls files by converting then to CSV format.\n",
    "# todo: 1) check if file is same 2) see how to parse CSV format\n",
    "\n",
    "print(os.getcwd())\n",
    "os.chdir('C:/Users/guanz/Desktop/new_input')\n",
    "FileList = glob.glob('i*.xls*')\n",
    "#FileList = glob.glob('input.xlsx') #sample_insurer_2013.xlsx')\n",
    "print(FileList)\n",
    "\n",
    "\n",
    "# need to take in an index for duplicate filenames\n",
    "def saveasCSV3(filename, index):\n",
    "    filename = os.path.abspath(filename)\n",
    "    print(\"saveasCSV3 in \" + filename + str(index))\n",
    "    workbook = xcl.Workbooks.Open(filename, False, False, None)\n",
    "    # print(\"workbook sheet count: \" + str(workbook.Sheets.Count))\n",
    "    if workbook.Sheets.Count == 9:\n",
    "        output = os.path.join(os.path.dirname(filename), os.path.splitext(os.path.basename(filename))[0])\n",
    "        for i in range(1, 4):\n",
    "            #csv_filename = output + '_' + str(i) + '.csv'\n",
    "            csv_filename = output + str(index) + '_' + workbook.Worksheets(i).Name + '.csv'\n",
    "            workbook.Worksheets(i).SaveAs(csv_filename, 6)\n",
    "            print(\"saveasCSV3 out \" + csv_filename)\n",
    "    workbook.Saved = 1\n",
    "    workbook.Close(False)\n",
    "#saveasCSV3(r'C:\\Users\\jli\\downloads\\Harker Approved Community Service Sites 17-18.xlsx')\n",
    "#saveasCSV3(r'C:\\Users\\jli\\downloads\\s1.xls')\n",
    "\n",
    "\n",
    "    \n",
    "index = 0\n",
    "for File in FileList:\n",
    "    saveasCSV3(File, index)\n",
    "    index = index + 1\n",
    "\n",
    "xcl.Quit()"
   ]
  },
  {
   "cell_type": "code",
   "execution_count": null,
   "metadata": {
    "collapsed": true
   },
   "outputs": [],
   "source": []
  },
  {
   "cell_type": "code",
   "execution_count": null,
   "metadata": {
    "collapsed": true
   },
   "outputs": [],
   "source": []
  },
  {
   "cell_type": "code",
   "execution_count": null,
   "metadata": {},
   "outputs": [],
   "source": []
  },
  {
   "cell_type": "code",
   "execution_count": null,
   "metadata": {
    "collapsed": true
   },
   "outputs": [],
   "source": []
  }
 ],
 "metadata": {
  "kernelspec": {
   "display_name": "Python 3",
   "language": "python",
   "name": "python3"
  }
 },
 "nbformat": 4,
 "nbformat_minor": 2
}
