{
 "cells": [
  {
   "cell_type": "code",
   "execution_count": 45,
   "metadata": {},
   "outputs": [],
   "source": [
    "import win32com.client\n",
    "import os\n",
    "import glob\n",
    "\n",
    "def opensave(filename, savename):\n",
    "    xcl = win32com.client.Dispatch(\"Excel.Application\")\n",
    "    wb = xcl.Workbooks.Open(filename, False, False, None)\n",
    "    xcl.DisplayAlerts = True\n",
    "    wb.SaveCopyAs(savename)\n",
    "    xcl.Quit()\n",
    "\n",
    "filepath = 'C:/Users/guanz/Dropbox/0_Princeton/Fall_2017/JIW/TestModel/4_Insurer-Data-ETL/input'\n",
    "os.chdir(filepath)\n",
    "FileList = glob.glob('brokenx.xlsx')\n",
    "#print(FileList)\n",
    "\n",
    "filepath_toconcat = 'C:\\\\Users\\\\guanz\\\\Dropbox\\\\0_Princeton\\\\Fall_2017\\\\JIW\\\\TestModel\\\\4_Insurer-Data-ETL\\\\input\\\\'\n",
    "    \n",
    "for File in FileList:\n",
    "    file_name = filepath_toconcat + File\n",
    "    FileNoExtension = File[:-5] # delete .xlsx from File name\n",
    "    save_name = filepath_toconcat + FileNoExtension + '-output.xlsx'\n",
    "    opensave(file_name, save_name)"
   ]
  },
  {
   "cell_type": "code",
   "execution_count": null,
   "metadata": {
    "collapsed": true
   },
   "outputs": [],
   "source": []
  }
 ],
 "metadata": {
  "kernelspec": {
   "display_name": "Python 3",
   "language": "python",
   "name": "python3"
  },
  "language_info": {
   "codemirror_mode": {
    "name": "ipython",
    "version": 3
   },
   "file_extension": ".py",
   "mimetype": "text/x-python",
   "name": "python",
   "nbconvert_exporter": "python",
   "pygments_lexer": "ipython3",
   "version": "3.6.1"
  }
 },
 "nbformat": 4,
 "nbformat_minor": 2
}
