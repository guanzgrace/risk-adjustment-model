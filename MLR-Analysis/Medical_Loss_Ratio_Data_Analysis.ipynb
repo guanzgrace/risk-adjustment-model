{
 "cells": [
  {
   "cell_type": "markdown",
   "metadata": {},
   "source": [
    "Premium Stabilization Programs data can be found here: https://www.cms.gov/CCIIO/Programs-and-Initiatives/Premium-Stabilization-Programs/\n",
    "\n",
    "Medical Loss Ratio data can be found here: https://www.cms.gov/CCIIO/Resources/Data-Resources/mlr.html\n",
    "\n",
    "We can find Medical Loss Ratio data for specific insurance companies here: https://www.cms.gov/apps/mlr/mlr-search.aspx#/?state=All&reporting_year=2015\n",
    "\n",
    "I have also downloaded the files in case they get removed from the websites later on."
   ]
  },
  {
   "cell_type": "code",
   "execution_count": null,
   "metadata": {
    "collapsed": true
   },
   "outputs": [],
   "source": []
  }
 ],
 "metadata": {
  "kernelspec": {
   "display_name": "Python 3",
   "language": "python",
   "name": "python3"
  },
  "language_info": {
   "codemirror_mode": {
    "name": "ipython",
    "version": 3
   },
   "file_extension": ".py",
   "mimetype": "text/x-python",
   "name": "python",
   "nbconvert_exporter": "python",
   "pygments_lexer": "ipython3",
   "version": "3.6.1"
  }
 },
 "nbformat": 4,
 "nbformat_minor": 2
}
