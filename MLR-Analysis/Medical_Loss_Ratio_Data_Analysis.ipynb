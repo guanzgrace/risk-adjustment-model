{
 "cells": [
  {
   "cell_type": "code",
   "execution_count": 120,
   "metadata": {
    "collapsed": true
   },
   "outputs": [],
   "source": [
    "import statistics\n",
    "import pandas as pd\n",
    "import numpy as np\n",
    "import matplotlib.pyplot as plt"
   ]
  },
  {
   "cell_type": "markdown",
   "metadata": {},
   "source": [
    "# Background\n",
    "Premium Stabilization Programs data can be found here: https://www.cms.gov/CCIIO/Programs-and-Initiatives/Premium-Stabilization-Programs/\n",
    "\n",
    "Medical Loss Ratio data can be found here: https://www.cms.gov/CCIIO/Resources/Data-Resources/mlr.html\n",
    "\n",
    "We can find Medical Loss Ratio data for specific insurance companies here: https://www.cms.gov/apps/mlr/mlr-search.aspx#/?state=All&reporting_year=2015\n",
    "\n",
    "I have also downloaded the files (in this GitHub repo except for the 2012 data since it was too big and Git wouldn't let me push) in case they get removed from the websites later on.\n",
    "\n",
    "## 2015 Benefit Year\n",
    "\n",
    "Relevant files:\n",
    "- /Premium-Stabilization-Programs/June-30-2016-RA-and-RI-Summary-Report-5CR-063016.pdf\n",
    "- /MLR-Analysis/Medical-Loss-Ratio/MLR_DataFilesPUF_20161019/Part1_2_Summary_Data_Premium_Claims.csv\n",
    "\n",
    "In the XLSX file, column D in row FED_REINS_PAYMENTS represents the reinsurance payment amount, column D and I in row FED_RISK_ADJ_NET_PAYMENTS represents the HHS risk adjustment transfer amount in the individual and small group markets, respectively."
   ]
  },
  {
   "cell_type": "code",
   "execution_count": 121,
   "metadata": {},
   "outputs": [],
   "source": [
    "# read in the data\n",
    "data_2015 = pd.read_csv(\"Medical-Loss-Ratio/MLR_DataFilesPUF_20161019/Part1_2_Summary_Data_Premium_Claims.csv\")\n",
    "\n",
    "# only keep the rows that we are looking up\n",
    "a_data_2015 = data_2015.loc[data_2015[\"ROW_LOOKUP_CODE\"].isin({\"FED_REINS_PAYMENTS\", \"FED_RISK_ADJ_NET_PAYMENTS\"})]\n",
    "\n",
    "# only keep the columns that contain numbers that we are looking up\n",
    "b_data_2015 = a_data_2015[[\"MR_SUBMISSION_TEMPLATE_ID\", \"ROW_LOOKUP_CODE\", \"CMM_INDIVIDUAL_Q1\", \"CMM_SMALL_GROUP_Q1\"]]\n",
    "\n",
    "# remove rows that contain null values in *BOTH* columns that we are looking up\n",
    "# (thus, threshold = 3 null columns to drop the column)\n",
    "c_data_2015 = b_data_2015.dropna(thresh=3)\n",
    "\n",
    "# drop duplicates in the CMM_INDIVIDUAL_Q1 and CMM_SMALL_GROUP_Q1 rows. \n",
    "# for some reason, companies are reported twice.\n",
    "d_data_2015 = c_data_2015.drop_duplicates(subset=[\"CMM_INDIVIDUAL_Q1\",\"CMM_SMALL_GROUP_Q1\"])\n",
    "\n",
    "# create one dataframe for reinsurance payments and another for risk adjustment payments\n",
    "data_2015_reins = d_data_2015.loc[d_data_2015[\"ROW_LOOKUP_CODE\"].isin({\"FED_REINS_PAYMENTS\"})]\n",
    "data_2015_riskadj = d_data_2015.loc[d_data_2015[\"ROW_LOOKUP_CODE\"].isin({\"FED_RISK_ADJ_NET_PAYMENTS\"})]\n"
   ]
  },
  {
   "cell_type": "code",
   "execution_count": 122,
   "metadata": {},
   "outputs": [],
   "source": [
    "data_2015_reins_individual = data_2015_reins[\"CMM_INDIVIDUAL_Q1\"].dropna()\n",
    "data_2015_riskadj_individual = data_2015_riskadj[\"CMM_INDIVIDUAL_Q1\"].dropna()\n",
    "data_2015_riskadj_smallgroup = data_2015_riskadj[\"CMM_SMALL_GROUP_Q1\"].dropna()\n",
    "\n",
    "data_2015_reins_individual_nonzero = data_2015_reins[\"CMM_INDIVIDUAL_Q1\"].where(data_2015_reins[\"CMM_INDIVIDUAL_Q1\"] != 0).dropna()\n",
    "data_2015_riskadj_individual_nonzero = data_2015_riskadj[\"CMM_INDIVIDUAL_Q1\"].where(data_2015_riskadj[\"CMM_INDIVIDUAL_Q1\"] != 0).dropna()\n",
    "data_2015_riskadj_smallgroup_nonzero = data_2015_riskadj[\"CMM_SMALL_GROUP_Q1\"].where(data_2015_riskadj[\"CMM_SMALL_GROUP_Q1\"] != 0).dropna()"
   ]
  },
  {
   "cell_type": "code",
   "execution_count": 123,
   "metadata": {},
   "outputs": [
    {
     "name": "stdout",
     "output_type": "stream",
     "text": [
      "Results of Basic Statistic Analysis\n",
      "\n",
      "\n",
      "Analysis of Reinsurance Payments 2015\n",
      "Mean (with zeroes) = 20058449.631\n",
      "Mean (without zeroes) = 20095872.1117\n",
      "Median (with zeroes) = 4524839.43\n",
      "Median (without zeroes) = 4533277.07\n",
      "StdDev (with zeroes) = 64489499.66906441\n",
      "StdDev (without zeroes) = 64543905.685033105\n",
      "Variance (with zeroes) = 4.15889556757e+15\n",
      "Variance (without zeroes) = 4.16591576108e+15\n",
      "Max Value = 1059085035.93\n",
      "Min Non-Zero Value = 3607.0\n",
      "Sample Size (with zeroes) = 537\n",
      "Sample Size (without zeroes) = 536\n",
      "Sum = 10771387451.9\n",
      "\n",
      "Analysis of Individual Market Risk Adjustment Payments 2015\n",
      "Mean (with zeroes) = 271352.456617\n",
      "Mean (without zeroes) = 337525.831774\n",
      "Median (with zeroes) = 0.0\n",
      "Median (without zeroes) = 147.45\n",
      "StdDev (with zeroes) = 24611688.38164475\n",
      "StdDev (without zeroes) = 27452820.959203873\n",
      "Variance (with zeroes) = 6.05735204995e+14\n",
      "Variance (without zeroes) = 7.53657378618e+14\n",
      "Max Value = 334055030.0\n",
      "Min Non-Zero Value = -218903904.11\n",
      "Sample Size (with zeroes) = 811\n",
      "Sample Size (without zeroes) = 652\n",
      "Sum = 220066842.317\n",
      "\n",
      "Analysis of Small Group Market Risk Adjustment Payments 2015\n",
      "Mean (with zeroes) = -186196.29992\n",
      "Mean (without zeroes) = -204867.795177\n",
      "Median (with zeroes) = -40454.57\n",
      "Median (without zeroes) = -98273.5\n",
      "StdDev (with zeroes) = 14925509.12577084\n",
      "StdDev (without zeroes) = 15656860.60345403\n",
      "Variance (with zeroes) = 2.22770822663e+14\n",
      "Variance (without zeroes) = 2.45137283956e+14\n",
      "Max Value = 214603533.76\n",
      "Min Non-Zero Value = -153842015.39\n",
      "Sample Size (with zeroes) = 790\n",
      "Sample Size (without zeroes) = 718\n",
      "Sum = -147095076.937\n",
      "\n",
      "Total Sum = 10844359217.3\n"
     ]
    }
   ],
   "source": [
    "print(\"Results of Basic Statistic Analysis\")\n",
    "\n",
    "print(\"\\n\\nAnalysis of Reinsurance Payments 2015\")\n",
    "print(\"Mean (with zeroes) = \" + str(statistics.mean(data_2015_reins_individual)))\n",
    "print(\"Mean (without zeroes) = \" + str(statistics.mean(data_2015_reins_individual_nonzero)))\n",
    "print(\"Median (with zeroes) = \" + str(statistics.median(data_2015_reins_individual)))\n",
    "print(\"Median (without zeroes) = \" + str(statistics.median(data_2015_reins_individual_nonzero)))\n",
    "print(\"StdDev (with zeroes) = \" + str(statistics.stdev(data_2015_reins_individual)))\n",
    "print(\"StdDev (without zeroes) = \" + str(statistics.stdev(data_2015_reins_individual_nonzero)))\n",
    "print(\"Variance (with zeroes) = \" + str(statistics.variance(data_2015_reins_individual)))\n",
    "print(\"Variance (without zeroes) = \" + str(statistics.variance(data_2015_reins_individual_nonzero)))\n",
    "print(\"Max Value = \" + str(max(data_2015_reins_individual)))\n",
    "print(\"Min Non-Zero Value = \" + str(min(data_2015_reins_individual_nonzero)))\n",
    "print(\"Sample Size (with zeroes) = \" + str(len(data_2015_reins_individual)))\n",
    "print(\"Sample Size (without zeroes) = \" + str(len(data_2015_reins_individual_nonzero)))\n",
    "print(\"Sum = \" + str(sum(data_2015_reins_individual)))\n",
    "      \n",
    "print(\"\\nAnalysis of Individual Market Risk Adjustment Payments 2015\")\n",
    "print(\"Mean (with zeroes) = \" + str(statistics.mean(data_2015_riskadj_individual)))\n",
    "print(\"Mean (without zeroes) = \" + str(statistics.mean(data_2015_riskadj_individual_nonzero)))\n",
    "print(\"Median (with zeroes) = \" + str(statistics.median(data_2015_riskadj_individual)))\n",
    "print(\"Median (without zeroes) = \" + str(statistics.median(data_2015_riskadj_individual_nonzero)))\n",
    "print(\"StdDev (with zeroes) = \" + str(statistics.stdev(data_2015_riskadj_individual)))\n",
    "print(\"StdDev (without zeroes) = \" + str(statistics.stdev(data_2015_riskadj_individual_nonzero)))\n",
    "print(\"Variance (with zeroes) = \" + str(statistics.variance(data_2015_riskadj_individual)))\n",
    "print(\"Variance (without zeroes) = \" + str(statistics.variance(data_2015_riskadj_individual_nonzero)))\n",
    "print(\"Max Value = \" + str(max(data_2015_riskadj_individual)))\n",
    "print(\"Min Non-Zero Value = \" + str(min(data_2015_riskadj_individual_nonzero)))\n",
    "print(\"Sample Size (with zeroes) = \" + str(len(data_2015_riskadj_individual)))\n",
    "print(\"Sample Size (without zeroes) = \" + str(len(data_2015_riskadj_individual_nonzero)))\n",
    "print(\"Sum = \" + str(sum(data_2015_riskadj_individual)))\n",
    "\n",
    "print(\"\\nAnalysis of Small Group Market Risk Adjustment Payments 2015\")\n",
    "print(\"Mean (with zeroes) = \" + str(statistics.mean(data_2015_riskadj_smallgroup)))\n",
    "print(\"Mean (without zeroes) = \" + str(statistics.mean(data_2015_riskadj_smallgroup_nonzero)))\n",
    "print(\"Median (with zeroes) = \" + str(statistics.median(data_2015_riskadj_smallgroup)))\n",
    "print(\"Median (without zeroes) = \" + str(statistics.median(data_2015_riskadj_smallgroup_nonzero)))\n",
    "print(\"StdDev (with zeroes) = \" + str(statistics.stdev(data_2015_riskadj_smallgroup)))\n",
    "print(\"StdDev (without zeroes) = \" + str(statistics.stdev(data_2015_riskadj_smallgroup_nonzero)))\n",
    "print(\"Variance (with zeroes) = \" + str(statistics.variance(data_2015_riskadj_smallgroup)))\n",
    "print(\"Variance (without zeroes) = \" + str(statistics.variance(data_2015_riskadj_smallgroup_nonzero)))\n",
    "print(\"Max Value = \" + str(max(data_2015_riskadj_smallgroup)))\n",
    "print(\"Min Non-Zero Value = \" + str(min(data_2015_riskadj_smallgroup_nonzero)))\n",
    "print(\"Sample Size (with zeroes) = \" + str(len(data_2015_riskadj_smallgroup)))\n",
    "print(\"Sample Size (without zeroes) = \" + str(len(data_2015_riskadj_smallgroup_nonzero)))\n",
    "print(\"Sum = \" + str(sum(data_2015_riskadj_smallgroup_nonzero)))\n",
    "\n",
    "print(\"\\nTotal Sum = \" + str(sum(data_2015_reins_individual) \n",
    "                           + sum(data_2015_riskadj_individual) \n",
    "                           +  sum(data_2015_riskadj_smallgroup_nonzero)))"
   ]
  },
  {
   "cell_type": "markdown",
   "metadata": {},
   "source": [
    "### Next Steps\n",
    "Based on this above data, what I want to do the following:\n",
    "- look at top 5 and bottom 5 outliers\n",
    "- see is why so many entries are zero\n",
    "- see why the sums are not 0\n",
    "- graph the distribution of values\n",
    "\n",
    "### Looking at top 5 and bottom 5 values"
   ]
  },
  {
   "cell_type": "code",
   "execution_count": 131,
   "metadata": {},
   "outputs": [
    {
     "name": "stdout",
     "output_type": "stream",
     "text": [
      "        MR_SUBMISSION_TEMPLATE_ID     ROW_LOOKUP_CODE  CMM_INDIVIDUAL_Q1  \\\n",
      "283873                     145027  FED_REINS_PAYMENTS       2.834807e+08   \n",
      "230677                     143275  FED_REINS_PAYMENTS       2.885161e+08   \n",
      "220540                     143128  FED_REINS_PAYMENTS       3.249618e+08   \n",
      "284245                     145031  FED_REINS_PAYMENTS       6.366792e+08   \n",
      "283780                     145026  FED_REINS_PAYMENTS       1.059085e+09   \n",
      "\n",
      "        CMM_SMALL_GROUP_Q1  \n",
      "283873                 NaN  \n",
      "230677                 NaN  \n",
      "220540                 NaN  \n",
      "284245                 NaN  \n",
      "283780                 NaN  \n"
     ]
    }
   ],
   "source": [
    "# looking at the top 5 and bottom 5 values\n",
    "data_2015_reins_sort = data_2015_reins.sort_values(by=[\"CMM_INDIVIDUAL_Q1\"])\n",
    "data_2015_riskadj_individual_sort = data_2015_riskadj.sort_values(by=[\"CMM_INDIVIDUAL_Q1\"])\n",
    "data_2015_riskadj_individual_sort = data_2015_riskadj.sort_values(by=[\"CMM_SMALL_GROUP_Q1\"])\n",
    "# using the tail and head commands, we can see the top 5 and bottom 5 of tail and head.\n",
    "# example: print(data_2015_reins_sort.tail())"
   ]
  },
  {
   "cell_type": "markdown",
   "metadata": {},
   "source": [
    "##### These are the bottom 5 values for reinsurance:\n",
    "\n",
    "40864                      135760  FED_REINS_PAYMENTS       0.000000e+00   \n",
    "222307                     143153  FED_REINS_PAYMENTS       3.607000e+03   \n",
    "194221                     142144  FED_REINS_PAYMENTS       4.144310e+03   \n",
    "66067                      137277  FED_REINS_PAYMENTS       7.872000e+03   \n",
    "196081                     142164  FED_REINS_PAYMENTS       7.903720e+03   \n",
    "66160                      137278  FED_REINS_PAYMENTS       1.164300e+04 \n",
    "\n",
    "I'm ignoring the zero. Perhaps we can find out which one was 0 from seeing the other value with ID 40864. Checking the PDF, we find that:\n",
    "\n",
    "62637 John Alden Life Insurance Company MN 3,607.23 (93,357.87) (43,185.94)\n",
    "\n",
    "75849 Freedom Life Insurance AZ  4,144.31  168,620.34 -\n",
    "\n",
    "83396 The Health Plan of the Upper Ohio Valley OH  7,871.97  (74,715.60)  (306,668.86)\n",
    "\n",
    "80431 Freedom Life Insurance SC  7,903.72  (7,622.19) -\n",
    "\n",
    "72982 The Health Plan of the Upper Ohio Valley WV  11,643.23  (15,242.90)  (553,884.06)\n",
    "\n",
    "##### These are the top 5 values for reinsurance:\n",
    "\n",
    "283873                     145027  FED_REINS_PAYMENTS       2.834807e+08   \n",
    "230677                     143275  FED_REINS_PAYMENTS       2.885161e+08   \n",
    "220540                     143128  FED_REINS_PAYMENTS       3.249618e+08   \n",
    "284245                     145031  FED_REINS_PAYMENTS       6.366792e+08   \n",
    "283780                     145026  FED_REINS_PAYMENTS       1.059085e+09\n",
    "\n",
    "Checking the PDF, we find that:\n",
    "\n",
    "36096 Blue Cross Blue Shield of Illinois IL 283,480,714.30 23,056,950.67 10,877,027.26\n",
    "\n",
    "Nothing matches 288,516,1...\n",
    "\n",
    "27603 Blue Cross of California (Anthem BC) CA 324,961,807.80 (26,380,560.05) 98,210,694.17\n",
    "\n",
    "33602 Blue Cross Blue Shield of Texas TX 636,679,178.58 38,571,557.86 11,386,899.21\n",
    "\n",
    "Nothing matches 1,059,085... also, I searched the PDF and the Texas Blue Cross is the largest number in the category I could find."
   ]
  },
  {
   "cell_type": "code",
   "execution_count": null,
   "metadata": {
    "collapsed": true
   },
   "outputs": [],
   "source": []
  },
  {
   "cell_type": "markdown",
   "metadata": {},
   "source": [
    "### Graphing the Distribution of Values: A Histogram"
   ]
  },
  {
   "cell_type": "code",
   "execution_count": 132,
   "metadata": {
    "scrolled": true
   },
   "outputs": [
    {
     "data": {
      "image/png": "[encoded data removed]",
      "text/plain": [
       "<matplotlib.figure.Figure at 0x285013c3e80>"
      ]
     },
     "metadata": {},
     "output_type": "display_data"
    }
   ],
   "source": [
    "fig = plt.figure()\n",
    "\n",
    "plt.subplot(131)\n",
    "plt.hist(data_2015_reins_individual_nonzero.values, bins=None, facecolor='green')\n",
    "\n",
    "plt.xlabel('Reinsurance Value')\n",
    "plt.ylabel('Number')\n",
    "plt.title('Distribution of Reinsurance Values')\n",
    "plt.grid(True)\n",
    "\n",
    "plt.subplot(132)\n",
    "plt.hist(data_2015_riskadj_individual_nonzero.values, bins=None, facecolor='green')\n",
    "\n",
    "plt.xlabel('Individual Risk Adjustment Amount')\n",
    "plt.ylabel('Number')\n",
    "plt.title('Distribution of Individual Risk Adjustment Amounts')\n",
    "plt.grid(True)\n",
    "\n",
    "plt.subplot(133)\n",
    "plt.hist(data_2015_riskadj_smallgroup_nonzero.values, bins=None, facecolor='green')\n",
    "\n",
    "plt.xlabel('Small Group Risk Adjustment Amount')\n",
    "plt.ylabel('Number')\n",
    "plt.title('Distribution of Small Group Risk Adjustment Amounts')\n",
    "plt.grid(True)\n",
    "\n",
    "fig.set_size_inches(20,10)\n",
    "plt.show()"
   ]
  },
  {
   "cell_type": "code",
   "execution_count": null,
   "metadata": {
    "collapsed": true
   },
   "outputs": [],
   "source": []
  },
  {
   "cell_type": "code",
   "execution_count": null,
   "metadata": {
    "collapsed": true
   },
   "outputs": [],
   "source": []
  },
  {
   "cell_type": "markdown",
   "metadata": {},
   "source": [
    "## 2014 Benefit Year\n",
    "\n",
    "TBD \n",
    "\n",
    "Relevant files:\n",
    "\n",
    "In the XLSX file, column D in row FED_REINS_PAYMENTS represents the reinsurance payment amount, column D and I in row FED_RISK_ADJ_NET_PAYMENTS represents the HHS risk adjustment transfer amount in the individual and small group markets, respectively."
   ]
  },
  {
   "cell_type": "code",
   "execution_count": null,
   "metadata": {
    "collapsed": true
   },
   "outputs": [],
   "source": []
  }
 ],
 "metadata": {
  "kernelspec": {
   "display_name": "Python 3",
   "language": "python",
   "name": "python3"
  },
  "language_info": {
   "codemirror_mode": {
    "name": "ipython",
    "version": 3
   },
   "file_extension": ".py",
   "mimetype": "text/x-python",
   "name": "python",
   "nbconvert_exporter": "python",
   "pygments_lexer": "ipython3",
   "version": "3.6.1"
  }
 },
 "nbformat": 4,
 "nbformat_minor": 2
}
