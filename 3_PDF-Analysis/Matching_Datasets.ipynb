{
 "cells": [
  {
   "cell_type": "markdown",
   "metadata": {},
   "source": [
    "## Matching Datasets\n",
    "\n",
    "Things that I've learned:\n",
    "\n",
    "- The Excels match the un-updated PDFs.\n",
    "\n",
    "- Example: \n",
    "    - 1.9 Federal Transitional Reinsurance Program payments expected from HHS (as indicated by HHS as of 6/30). For Aetna Health of FL: 10,355,176.30.\n",
    "    - Reported in the original PDF: 18628 Aetna Health Inc. (a FL corp.) FL 10,355,176.30 (28,025,200.75) 5,437,975.83\n",
    "    - Reported in the updated PDF: 18628 Aetna Health Inc. (a FL corp.) FL 10,360,565.46 (28,025,200.75) 5,437,975.83\n",
    "\n",
    "My goal with this Python notebook is to create final spreadsheets for each year. I imagine the final spreadsheet will be like:\n",
    "\n",
    "HHOS ID ... MR_SUBMISSION_TEMPLATE_ID ... COMPANY NAME ... REPORTED VALUES ... ACTUAL VALUES\n",
    "\n",
    "for 2014 and 2015. That way, we can do our time analysis."
   ]
  },
  {
   "cell_type": "code",
   "execution_count": 166,
   "metadata": {
    "collapsed": true
   },
   "outputs": [],
   "source": [
    "import pandas as pd\n",
    "import numpy as np\n",
    "\n",
    "# for debugging, display everything: \n",
    "pd.options.display.max_seq_items = 2000\n",
    "pd.options.display.max_rows = 4000\n",
    "pd.options.mode.chained_assignment = None  # default='warn'"
   ]
  },
  {
   "cell_type": "code",
   "execution_count": 224,
   "metadata": {
    "collapsed": true
   },
   "outputs": [],
   "source": [
    "# this script attempts to match up the pdf and big excel data\n",
    "\n",
    "# author: Grace Guan\n",
    "# date created: 11/23/17"
   ]
  },
  {
   "cell_type": "code",
   "execution_count": 215,
   "metadata": {},
   "outputs": [
    {
     "name": "stdout",
     "output_type": "stream",
     "text": [
      "(1523, 3)\n",
      "(534, 4)\n",
      "(534, 6)\n",
      "     MR_SUBMISSION_TEMPLATE_ID  MEMBER_MONTHS_INDIVIDUAL  \\\n",
      "143                     142009                 1722261.0   \n",
      "105                     140839                 2736915.0   \n",
      "139                     141992                 3470273.0   \n",
      "88                      140366                 1358859.0   \n",
      "267                     143689                 7778647.0   \n",
      "\n",
      "     MEMBER_MONTHS_SMALL_GROUP   REINSURANCE  RISK_TRANSFER_INDIVIDUAL  \\\n",
      "143                        0.0  1.901151e+07              -218903904.1   \n",
      "105                  1788573.0  4.187840e+07              -125635856.0   \n",
      "139                   851617.0  1.367631e+08              -135056370.8   \n",
      "88                    681644.0  5.173671e+07               -37496765.0   \n",
      "267                  8405443.0  1.989800e+08               -97545960.0   \n",
      "\n",
      "     RISK_TRANSFER_SMALL_GROUP          Hash  \n",
      "143               0.000000e+00 -6.652940e+09  \n",
      "105              -9.524829e+06 -3.763485e+09  \n",
      "139              -1.151183e+07 -3.425107e+09  \n",
      "88               -1.538420e+08 -3.415557e+09  \n",
      "267              -9.339060e+07 -3.218705e+09  \n",
      "     MR_SUBMISSION_TEMPLATE_ID  MEMBER_MONTHS_INDIVIDUAL  \\\n",
      "375                     145031                11485974.0   \n",
      "98                      140652                 6984408.0   \n",
      "215                     143275                 4159144.0   \n",
      "370                     145026                20950690.0   \n",
      "533                     145888                 6204216.0   \n",
      "\n",
      "     MEMBER_MONTHS_SMALL_GROUP   REINSURANCE  RISK_TRANSFER_INDIVIDUAL  \\\n",
      "375                  8594675.0  6.366792e+08              3.857156e+07   \n",
      "98                   2367193.0  2.821817e+08              1.815166e+08   \n",
      "215                   402828.0  2.885161e+08              2.003662e+08   \n",
      "370                 14722384.0  1.059085e+09              6.277108e+07   \n",
      "533                  2084681.0  2.035995e+08              3.340550e+08   \n",
      "\n",
      "     RISK_TRANSFER_SMALL_GROUP          Hash  \n",
      "375                11386899.21  5.846050e+09  \n",
      "98                 19826490.00  7.939337e+09  \n",
      "215                -1212493.00  8.210352e+09  \n",
      "370                28113536.10  9.837429e+09  \n",
      "533                 8102147.00  1.191864e+10  \n",
      "(534, 7)\n"
     ]
    }
   ],
   "source": [
    "# WE WANT TO CREATE THE FOLLOWING SPREADSHEET:\n",
    "# SUBMISSION ID ... MEMBER MONTHS ... REINSURANCE ... RISK ADJUSTMENT INDIVIDUAL ... RISK ADJUSTMENT SMALL GROUP\n",
    "\n",
    "# read in excel data\n",
    "excel_data_2015 = pd.read_csv(\"input/2015_Part1_2_Summary_Data_Premium_Claims.csv\", dtype=str)\n",
    "excel_data_2015 = excel_data_2015.apply(pd.to_numeric, errors='ignore')\n",
    "\n",
    "# only keep the rows that we are looking up\n",
    "a_data_2015 = excel_data_2015.loc[excel_data_2015[\"ROW_LOOKUP_CODE\"]\n",
    "                            .isin({\"FED_REINS_PAYMENTS\", \"FED_RISK_ADJ_NET_PAYMENTS\", \"MEMBER_MONTHS\"})]\n",
    "\n",
    "# only keep the columns that contain numbers that we are looking up\n",
    "b_data_2015 = a_data_2015[[\"MR_SUBMISSION_TEMPLATE_ID\", \"ROW_LOOKUP_CODE\", \"CMM_INDIVIDUAL_Q1\", \"CMM_SMALL_GROUP_Q1\"]]\n",
    "\n",
    "# remove rows that contain null values in *BOTH* columns that we are looking up\n",
    "# (thus, threshold = 3 null columns to drop the column)\n",
    "c_data_2015 = b_data_2015.dropna(thresh=3)\n",
    "\n",
    "# drop duplicates in the CMM_INDIVIDUAL_Q1 and CMM_SMALL_GROUP_Q1 rows. \n",
    "# for some reason, companies are reported twice.\n",
    "d_data_2015 = c_data_2015.drop_duplicates(subset=[\"CMM_INDIVIDUAL_Q1\",\"CMM_SMALL_GROUP_Q1\"])\n",
    "\n",
    "# get member months data as base for combining the rows\n",
    "df = d_data_2015.loc[d_data_2015[\"ROW_LOOKUP_CODE\"].isin({\"MEMBER_MONTHS\"})]\n",
    "df = df[[\"MR_SUBMISSION_TEMPLATE_ID\",\"CMM_INDIVIDUAL_Q1\",\"CMM_SMALL_GROUP_Q1\"]]\n",
    "df[\"MEMBER_MONTHS_INDIVIDUAL\"] = df[\"CMM_INDIVIDUAL_Q1\"]\n",
    "df[\"MEMBER_MONTHS_SMALL_GROUP\"] = df[\"CMM_SMALL_GROUP_Q1\"]\n",
    "del df[\"CMM_INDIVIDUAL_Q1\"]\n",
    "del df[\"CMM_SMALL_GROUP_Q1\"]\n",
    "print(df.shape)\n",
    "\n",
    "# merge the reinsurance\n",
    "data_2015_reins = d_data_2015.loc[d_data_2015[\"ROW_LOOKUP_CODE\"].isin({\"FED_REINS_PAYMENTS\"})]\n",
    "\n",
    "# rename column to reinsurance\n",
    "data_2015_reins[\"REINSURANCE\"] = data_2015_reins[\"CMM_INDIVIDUAL_Q1\"]\n",
    "data_2015_reins = data_2015_reins[[\"MR_SUBMISSION_TEMPLATE_ID\",\"REINSURANCE\"]]\n",
    "df = df.merge(data_2015_reins, on=\"MR_SUBMISSION_TEMPLATE_ID\")\n",
    "print(df.shape)\n",
    "\n",
    "# merge the risk adjustment\n",
    "data_2015_riskadj = d_data_2015.loc[d_data_2015[\"ROW_LOOKUP_CODE\"].isin({\"FED_RISK_ADJ_NET_PAYMENTS\"})]\n",
    "\n",
    "# rename columns for merging\n",
    "data_2015_riskadj[\"RISK_TRANSFER_INDIVIDUAL\"] = data_2015_riskadj[\"CMM_INDIVIDUAL_Q1\"]\n",
    "data_2015_riskadj[\"RISK_TRANSFER_SMALL_GROUP\"] = data_2015_riskadj[\"CMM_SMALL_GROUP_Q1\"]\n",
    "data_2015_riskadj = data_2015_riskadj[[\"MR_SUBMISSION_TEMPLATE_ID\",\"RISK_TRANSFER_INDIVIDUAL\",\"RISK_TRANSFER_SMALL_GROUP\"]]\n",
    "df = df.merge(data_2015_riskadj, on=\"MR_SUBMISSION_TEMPLATE_ID\")\n",
    "print(df.shape)\n",
    "\n",
    "df = df.fillna(0)\n",
    "\n",
    "# now we have a file like this. how do we match it?\n",
    "# 1) if reinsurance, risk_transfer_individual, or risk_transfer_small_group match exactly, then there's a match.\n",
    "# 2) find the closest match otherwise.\n",
    "df[\"Hash\"] = df[\"REINSURANCE\"] * 7 + df[\"RISK_TRANSFER_INDIVIDUAL\"] * 31 + df[\"RISK_TRANSFER_SMALL_GROUP\"] * 17\n",
    "df = df.sort_values(by=\"Hash\")\n",
    "print(df.head())\n",
    "print(df.tail())\n",
    "print(df.shape)"
   ]
  },
  {
   "cell_type": "code",
   "execution_count": 222,
   "metadata": {},
   "outputs": [
    {
     "name": "stdout",
     "output_type": "stream",
     "text": [
      "MR_SUBMISSION_TEMPLATE_ID     144665.00\n",
      "MEMBER_MONTHS_INDIVIDUAL         337.00\n",
      "MEMBER_MONTHS_SMALL_GROUP       1652.00\n",
      "REINSURANCE                    14684.41\n",
      "RISK_TRANSFER_INDIVIDUAL      -16255.23\n",
      "RISK_TRANSFER_SMALL_GROUP    -174731.40\n",
      "Hash                        -3371555.06\n",
      "Name: 328, dtype: float64\n"
     ]
    }
   ],
   "source": [
    "# how to slice the dataframe\n",
    "print(df.iloc[225])"
   ]
  },
  {
   "cell_type": "code",
   "execution_count": 185,
   "metadata": {},
   "outputs": [
    {
     "name": "stdout",
     "output_type": "stream",
     "text": [
      "    HIOS ID               HIOS INPUTTED INSURANCE COMPANY NAME STATE  \\\n",
      "146   54172                 Molina Healthcare of Florida, Inc.    FL   \n",
      "69    67138                     Health Net of California, Inc.    CA   \n",
      "139   35783                          Humana Medical Plan, Inc.    FL   \n",
      "537   71644  Freelancers Health Service Corporation d/b/a H...    NY   \n",
      "148   57451              Coventry Health Care of Florida, Inc.    FL   \n",
      "\n",
      "      REINSURANCE  RISK_TRANSFER_INDIVIDUAL  RISK_TRANSFER_SMALL_GROUP  \\\n",
      "146  1.901151e+07             -2.189039e+08               0.000000e+00   \n",
      "69   4.187840e+07             -1.256359e+08              -9.525637e+06   \n",
      "139  1.367631e+08             -1.350564e+08              -1.151183e+07   \n",
      "537  5.173671e+07             -3.749677e+07              -1.538420e+08   \n",
      "148  5.689029e+07             -1.105675e+08               9.731552e+05   \n",
      "\n",
      "             Hash  \n",
      "146 -6.652940e+09  \n",
      "69  -3.763499e+09  \n",
      "139 -3.425107e+09  \n",
      "537 -3.415557e+09  \n",
      "148 -3.012818e+09  \n",
      "    HIOS ID          HIOS INPUTTED INSURANCE COMPANY NAME STATE   REINSURANCE  \\\n",
      "432   11512              Blue Cross and Blue Shield of NC    NC  2.225018e+08   \n",
      "544   85629                 Oxford Health Insurance, Inc.    NY  0.000000e+00   \n",
      "697   33602               Blue Cross Blue Shield of Texas    TX  6.366792e+08   \n",
      "71    70285  CA Physician's Service dba Blue Shield of CA    CA  2.822800e+08   \n",
      "131   16842         Blue Cross and Blue Shield of Florida    FL  2.035995e+08   \n",
      "\n",
      "     RISK_TRANSFER_INDIVIDUAL  RISK_TRANSFER_SMALL_GROUP          Hash  \n",
      "432              6.756634e+07               1.575973e+07  3.919985e+09  \n",
      "544              0.000000e+00               3.153744e+08  5.361365e+09  \n",
      "697              3.857156e+07               1.138690e+07  5.846050e+09  \n",
      "71               1.815166e+08               1.982204e+07  7.939949e+09  \n",
      "131              3.689333e+08               8.102147e+06  1.299987e+10  \n"
     ]
    }
   ],
   "source": [
    "df2 = pd.read_csv(\"input/2015-Benefit-Year-RI-RA-Not-Updated-numeric.csv\")\n",
    "df2 = df2.rename(columns={'REINSURANCE PAYMENT AMOUNT (OR NOT ELIGIBLE)': 'REINSURANCE',\n",
    "     'HHS RISK ADJUSTMENT TRANSFER AMOUNT (INDIVIDUAL MARKET, INCLUDING CATASTROPHIC)': 'RISK_TRANSFER_INDIVIDUAL',\n",
    "     'HHS RISK ADJUSTMENT TRANSFERS AMOUNT (SMALL GROUP MARKET)':'RISK_TRANSFER_SMALL_GROUP'})\n",
    "df2 = df2.apply(pd.to_numeric, errors='ignore')\n",
    "\n",
    "try:\n",
    "    del df2[\"Unnamed: 0\"]\n",
    "except KeyError:\n",
    "    pass\n",
    "\n",
    "try: \n",
    "    del df2[\"Unnamed: 0.1\"]\n",
    "except KeyError:\n",
    "    pass\n",
    "\n",
    "df2 = df2.fillna(0)\n",
    "\n",
    "df2[\"Hash\"] = df2[\"REINSURANCE\"] * 7 + df2[\"RISK_TRANSFER_INDIVIDUAL\"] * 31 + df2[\"RISK_TRANSFER_SMALL_GROUP\"] * 17\n",
    "df2 = df2.sort_values(by=\"Hash\")\n",
    "\n",
    "print(df2.head())\n",
    "print(df2.tail())\n",
    "\n"
   ]
  },
  {
   "cell_type": "code",
   "execution_count": null,
   "metadata": {
    "collapsed": true
   },
   "outputs": [],
   "source": []
  }
 ],
 "metadata": {
  "kernelspec": {
   "display_name": "Python 3",
   "language": "python",
   "name": "python3"
  },
  "language_info": {
   "codemirror_mode": {
    "name": "ipython",
    "version": 3
   },
   "file_extension": ".py",
   "mimetype": "text/x-python",
   "name": "python",
   "nbconvert_exporter": "python",
   "pygments_lexer": "ipython3",
   "version": "3.6.1"
  }
 },
 "nbformat": 4,
 "nbformat_minor": 2
}
