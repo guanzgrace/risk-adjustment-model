{
 "cells": [
  {
   "cell_type": "code",
   "execution_count": 23,
   "metadata": {
    "collapsed": true
   },
   "outputs": [],
   "source": [
    "import pandas as pd\n",
    "import numpy as np"
   ]
  },
  {
   "cell_type": "code",
   "execution_count": 24,
   "metadata": {
    "collapsed": true
   },
   "outputs": [],
   "source": [
    "# this script parses important insurer information from an xlsx file \n",
    "# original data can be found here: https://www.cms.gov/apps/mlr/mlr-search.aspx\n",
    "\n",
    "# author: Grace Guan\n",
    "# date created: 11/24/17"
   ]
  },
  {
   "cell_type": "code",
   "execution_count": 25,
   "metadata": {},
   "outputs": [],
   "source": [
    "# read in the file\n",
    "xls = pd.ExcelFile(\"input/sample_insurer.xlsx\")"
   ]
  },
  {
   "cell_type": "code",
   "execution_count": 26,
   "metadata": {},
   "outputs": [
    {
     "name": "stdout",
     "output_type": "stream",
     "text": [
      "18628\n",
      "Aetna Health Inc. (a Florida corporation)\n",
      "Florida\n",
      "485275\n",
      "824836\n",
      "10355176.3\n",
      "-28025200.75\n",
      "5437975.83\n"
     ]
    }
   ],
   "source": [
    "# hios id is 11C (9,1) in sheet 0\n",
    "# company name 4C (2,1) is in sheet 0\n",
    "# company state is 12C (10,1) in sheet 0\n",
    "sheet0 = xls.parse(0)\n",
    "print(sheet0.iloc[9,1])\n",
    "print(sheet0.iloc[2,1])\n",
    "print(sheet0.iloc[10,1])\n",
    "\n",
    "# individual member months is in section 1.7 59E (57,3) in sheet 1\n",
    "# small group member months is in section 1.7 59K (57,9) in sheet 1\n",
    "sheet1 = xls.parse(1)\n",
    "print(sheet1.iloc[57,3])\n",
    "print(sheet1.iloc[57,9])\n",
    "\n",
    "# reinsurance is in section 1.9 which is 15E in sheet 2\n",
    "# individual risk adjustment is in section 1.10 which is 16E in sheet 2\n",
    "# small group risk adjustment is in section 1.10 which is 16K in sheet 2\n",
    "sheet2 = xls.parse(2)\n",
    "print(sheet2.iloc[13,3])\n",
    "print(sheet2.iloc[14,3])\n",
    "print(sheet2.iloc[14,9])"
   ]
  },
  {
   "cell_type": "code",
   "execution_count": null,
   "metadata": {
    "collapsed": true
   },
   "outputs": [],
   "source": []
  }
 ],
 "metadata": {
  "kernelspec": {
   "display_name": "Python 3",
   "language": "python",
   "name": "python3"
  },
  "language_info": {
   "codemirror_mode": {
    "name": "ipython",
    "version": 3
   },
   "file_extension": ".py",
   "mimetype": "text/x-python",
   "name": "python",
   "nbconvert_exporter": "python",
   "pygments_lexer": "ipython3",
   "version": "3.6.1"
  }
 },
 "nbformat": 4,
 "nbformat_minor": 2
}
