{
 "cells": [
  {
   "cell_type": "code",
   "execution_count": 3,
   "metadata": {},
   "outputs": [
    {
     "name": "stdout",
     "output_type": "stream",
     "text": [
      "strip_money_values defined\n",
      "perform_stripping defined\n"
     ]
    }
   ],
   "source": [
    "import pandas as pd\n",
    "import numpy as np\n",
    "from re import sub\n",
    "from decimal import Decimal\n",
    "\n",
    "# strip the pdf data to make it parseable\n",
    "\n",
    "def strip_money_values( column ):\n",
    "    i = 0\n",
    "    for money in pdf_data[column]:\n",
    "        if money == '$-' or money == 'N/E' or \\\n",
    "            money == 'N/A_MA_Issuer' or money == 'N/A_DefaultCharge' or \\\n",
    "            money == 'N/A_Default_Charge':\n",
    "            pdf_data[column][i] = \"N/A\"\n",
    "        else:\n",
    "            value = Decimal(sub(r'[^\\d.]', '', money))\n",
    "            if '(' in money:\n",
    "                value = -1 * value\n",
    "            else:\n",
    "                value = value\n",
    "            pdf_data[column][i] = value\n",
    "        i = i + 1\n",
    "\n",
    "print(\"strip_money_values defined\")\n",
    "\n",
    "def perform_stripping( path ): \n",
    "    columns = [\"HHS RISK ADJUSTMENT TRANSFER AMOUNT (INDIVIDUAL MARKET, INCLUDING CATASTROPHIC)\",\n",
    "            \"REINSURANCE PAYMENT AMOUNT (OR NOT ELIGIBLE)\",\n",
    "            \"HHS RISK ADJUSTMENT TRANSFERS AMOUNT (SMALL GROUP MARKET)\"]\n",
    "\n",
    "    for column in columns:\n",
    "        strip_money_values(column)\n",
    "    print(pdf_data)\n",
    "    pdf_data.to_csv(path_or_buf=path)\n",
    "    \n",
    "\n",
    "print(\"perform_stripping defined\")"
   ]
  },
  {
   "cell_type": "code",
   "execution_count": 4,
   "metadata": {
    "collapsed": true
   },
   "outputs": [],
   "source": [
    "# how to execute the above scripts to clean the data of all '$', ',', and '(')''s.\n",
    "#pdf_data = pd.read_csv(\"input/2014-Benefit-Year-RI-RA-Updated.csv\")\n",
    "#perform_stripping(\"input/2014-Benefit-Year-RI-RA-Updated-numeric.csv\")\n",
    "# THIS CREATES THE FOLLOWING SPREADSHEET:\n",
    "# HIOS ID ... COMPANY NAME ... STATE ... REINSURANCE ... RISK ADJUSTMENT INDIDIVDUAL ... RISK ADJUSTMENT SMALL GROUP"
   ]
  },
  {
   "cell_type": "code",
   "execution_count": null,
   "metadata": {
    "collapsed": true
   },
   "outputs": [],
   "source": []
  }
 ],
 "metadata": {
  "kernelspec": {
   "display_name": "Python 3",
   "language": "python",
   "name": "python3"
  },
  "language_info": {
   "codemirror_mode": {
    "name": "ipython",
    "version": 3
   },
   "file_extension": ".py",
   "mimetype": "text/x-python",
   "name": "python",
   "nbconvert_exporter": "python",
   "pygments_lexer": "ipython3",
   "version": "3.6.1"
  }
 },
 "nbformat": 4,
 "nbformat_minor": 2
}
