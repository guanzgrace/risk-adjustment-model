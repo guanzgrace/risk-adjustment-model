{
 "cells": [
  {
   "cell_type": "markdown",
   "metadata": {},
   "source": [
    "## Objective\n",
    "Parses a text file table that has reinsurance and risk adjustment data for a benefit year into a CSV.\n",
    "\n",
    "### Preprocessing\n",
    "step 1: copy into raw text file\n",
    "\n",
    "step 2: delete header\n",
    "\n",
    "step 3: delete page numbers through the regexp ^RI RA.\\*\n",
    "\n",
    "step 4: remove blank lines through the regexp ^\\n\\n\n",
    "\n",
    "step 5: find and replace \"not eligible\" with \"N/E\"\n",
    "\n",
    "step 6: find and replace \"\\$ -\" with \"\\$-\"\n",
    "\n",
    "step 7: find and replace \"\\$ \" with \"\\$\""
   ]
  },
  {
   "cell_type": "code",
   "execution_count": 65,
   "metadata": {
    "collapsed": true
   },
   "outputs": [],
   "source": [
    "import pandas as pd\n",
    "import re"
   ]
  },
  {
   "cell_type": "code",
   "execution_count": 66,
   "metadata": {},
   "outputs": [],
   "source": [
    "with open('2014-Benefit-Year-Edit.txt', 'r') as myfile:\n",
    "    s = myfile.read()"
   ]
  },
  {
   "cell_type": "code",
   "execution_count": 67,
   "metadata": {},
   "outputs": [],
   "source": [
    "split = str.split(s)\n",
    "length = len(split)"
   ]
  },
  {
   "cell_type": "code",
   "execution_count": 68,
   "metadata": {},
   "outputs": [
    {
     "name": "stdout",
     "output_type": "stream",
     "text": [
      "  HIOS ID      HIOS INPUTTED INSURANCE COMPANY NAME STATE  \\\n",
      "0   11082              Aetna Life Insurance Company    AK   \n",
      "1   62637         John Alden Life Insurance Company    AK   \n",
      "2   73836                    Moda Health Plan, Inc.    AK   \n",
      "3   38344  Premera Blue Cross Blue Shield of Alaska    AK   \n",
      "4   38596                    Time Insurance Company    AK   \n",
      "\n",
      "  REINSURANCE PAYMENT AMOUNT (OR NOT ELIGIBLE)  \\\n",
      "0                                  $120,363.61   \n",
      "1                                          N/E   \n",
      "2                               $13,102,419.34   \n",
      "3                               $19,984,669.96   \n",
      "4                                $1,558,728.91   \n",
      "\n",
      "  HHS RISK ADJUSTMENT TRANSFER AMOUNT (INDIVIDUAL MARKET, INCLUDING CATASTROPHIC)  \\\n",
      "0                                       $(52,362.57)                                \n",
      "1                                                 $-                                \n",
      "2                                    $(4,806,964.11)                                \n",
      "3                                      $5,782,175.12                                \n",
      "4                                      $(922,848.49)                                \n",
      "\n",
      "  HHS RISK ADJUSTMENT TRANSFERS AMOUNT (SMALL GROUP MARKET)  \n",
      "0                                         $22,831.39         \n",
      "1                                         $78,962.62         \n",
      "2                                         $24,371.00         \n",
      "3                                      $(119,931.53)         \n",
      "4                                      $(317,715.76)         \n"
     ]
    }
   ],
   "source": [
    "storage = pd.DataFrame(columns=[\"HIOS ID\", \"HIOS INPUTTED INSURANCE COMPANY NAME\", \"STATE\", \"REINSURANCE PAYMENT AMOUNT (OR NOT ELIGIBLE)\",\n",
    "               \"HHS RISK ADJUSTMENT TRANSFER AMOUNT (INDIVIDUAL MARKET, INCLUDING CATASTROPHIC)\",\n",
    "               \"HHS RISK ADJUSTMENT TRANSFERS AMOUNT (SMALL GROUP MARKET)\"])\n",
    "\n",
    "prog = re.compile('^[A-Z]{2}$')\n",
    "\n",
    "i = 0\n",
    "index = 0\n",
    "while i < length - 1:\n",
    "    hios_id = split[i]\n",
    "    i = i + 1\n",
    "    temp = i\n",
    "    while (prog.match(split[i]) == None): # look for state in quotes\n",
    "        i = i + 1\n",
    "    company_name = str(' '.join(split[temp:i]))\n",
    "    state = split[i]\n",
    "    i = i + 1\n",
    "    reinsurance = split[i]\n",
    "    i = i + 1\n",
    "    individual = split[i]\n",
    "    i = i + 1\n",
    "    small_group = split[i] \n",
    "    i = i + 1\n",
    "    storage.loc[index] = [hios_id, company_name, state, reinsurance, individual, small_group]\n",
    "    index = index + 1\n",
    "    \n",
    "print(storage)"
   ]
  },
  {
   "cell_type": "code",
   "execution_count": null,
   "metadata": {
    "collapsed": true
   },
   "outputs": [],
   "source": []
  }
 ],
 "metadata": {
  "kernelspec": {
   "display_name": "Python 3",
   "language": "python",
   "name": "python3"
  },
  "language_info": {
   "codemirror_mode": {
    "name": "ipython",
    "version": 3
   },
   "file_extension": ".py",
   "mimetype": "text/x-python",
   "name": "python",
   "nbconvert_exporter": "python",
   "pygments_lexer": "ipython3",
   "version": "3.6.1"
  }
 },
 "nbformat": 4,
 "nbformat_minor": 2
}
