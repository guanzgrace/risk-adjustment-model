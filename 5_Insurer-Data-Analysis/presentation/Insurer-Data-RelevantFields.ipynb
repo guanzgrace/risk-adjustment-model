{
 "cells": [
  {
   "cell_type": "code",
   "execution_count": 13,
   "metadata": {
    "collapsed": true
   },
   "outputs": [],
   "source": [
    "# take only the following columns from the files:\n",
    "# 7.4Membermonths2HealthInsuranceINDIVIDUALTotalasof3/31/15\n",
    "# 7.4Membermonths7HealthInsuranceSMALLGROUPTotalasof3/31/15\n",
    "# 1.9FederalTransitionalReinsuranceProgrampaymentsexpectedfromHHS(asindicatedbyHHSasof6/30)2HealthInsuranceINDIVIDUALTotalasof3/31/15\n",
    "# 1.10FederalRiskAdjustmentProgramnetpaymentsexpectedfromHHS/(chargespayabletoHHS)(asindicatedbyHHSasof6/30)2HealthInsuranceINDIVIDUALTotalasof3/31/15\n",
    "# 1.10FederalRiskAdjustmentProgramnetpaymentsexpectedfromHHS/(chargespayabletoHHS)(asindicatedbyHHSasof6/30)7HealthInsuranceSMALLGROUPTotalasof3/31/15\n",
    "# HIOS INPUTTED INSURANCE COMPANY NAME\n",
    "# STATE\n",
    "# REINSURANCE PAYMENT AMOUNT (OR NOT ELIGIBLE)\n",
    "# HHS RISK ADJUSTMENT TRANSFER AMOUNT (INDIVIDUAL MARKET, INCLUDING CATASTROPHIC)\n",
    "# HHS RISK ADJUSTMENT TRANSFERS AMOUNT (SMALL GROUP MARKET)\n",
    "import pandas as pd"
   ]
  },
  {
   "cell_type": "code",
   "execution_count": 14,
   "metadata": {},
   "outputs": [],
   "source": [
    "s2014 = pd.read_csv(\"2014_final.csv\", low_memory=False)\n",
    "s2014 = s2014[['CompanyName:',\n",
    "'BusinessintheStateof:',\n",
    "               'HIOSIssuerID:',\n",
    "'7.4Membermonths2HealthInsuranceINDIVIDUALTotalasof3/31/15',\n",
    "'7.4Membermonths7HealthInsuranceSMALLGROUPTotalasof3/31/15',\n",
    "'1.9FederalTransitionalReinsuranceProgrampaymentsexpectedfromHHS(asindicatedbyHHSasof6/30)2HealthInsuranceINDIVIDUALTotalasof3/31/15',\n",
    "'1.10FederalRiskAdjustmentProgramnetpaymentsexpectedfromHHS/(chargespayabletoHHS)(asindicatedbyHHSasof6/30)2HealthInsuranceINDIVIDUALTotalasof3/31/15',\n",
    "'1.10FederalRiskAdjustmentProgramnetpaymentsexpectedfromHHS/(chargespayabletoHHS)(asindicatedbyHHSasof6/30)7HealthInsuranceSMALLGROUPTotalasof3/31/15',\n",
    "'REINSURANCE PAYMENT AMOUNT (OR NOT ELIGIBLE)',\n",
    "'HHS RISK ADJUSTMENT TRANSFER AMOUNT (INDIVIDUAL MARKET, INCLUDING CATASTROPHIC)',\n",
    "'HHS RISK ADJUSTMENT TRANSFERS AMOUNT (SMALL GROUP MARKET)',\n",
    "'Not-For-Profit:']]\n",
    "s2014 = s2014.rename(\n",
    "    columns={'7.4Membermonths2HealthInsuranceINDIVIDUALTotalasof3/31/15': 'MEMBER_MONTHS_INDIVIDUAL:',\n",
    "            '7.4Membermonths7HealthInsuranceSMALLGROUPTotalasof3/31/15': 'MEMBER_MONTHS_SMALL_GROUP',\n",
    "            '1.9FederalTransitionalReinsuranceProgrampaymentsexpectedfromHHS(asindicatedbyHHSasof6/30)2HealthInsuranceINDIVIDUALTotalasof3/31/15': 'EXPECTED_REINSURANCE',\n",
    "            '1.10FederalRiskAdjustmentProgramnetpaymentsexpectedfromHHS/(chargespayabletoHHS)(asindicatedbyHHSasof6/30)2HealthInsuranceINDIVIDUALTotalasof3/31/15': 'EXPECTED_RISK_ADJUSTMENT_INDIVIDUAL',\n",
    "            '1.10FederalRiskAdjustmentProgramnetpaymentsexpectedfromHHS/(chargespayabletoHHS)(asindicatedbyHHSasof6/30)7HealthInsuranceSMALLGROUPTotalasof3/31/15': 'EXPECTED_RISK_ADJUSTMENT_SMALL_GROUP'\n",
    "            })\n",
    "s2014.head()\n",
    "s2014.to_csv(\"2014_final_condensed.csv\")"
   ]
  },
  {
   "cell_type": "code",
   "execution_count": 15,
   "metadata": {
    "collapsed": true
   },
   "outputs": [],
   "source": [
    "s2015 = pd.read_csv(\"2015_final.csv\", low_memory=False)\n",
    "s2015 = s2015[['CompanyName:',\n",
    "'BusinessintheStateof:',\n",
    "               'HIOSIssuerID:',\n",
    "'7.4Membermonths2HealthInsuranceINDIVIDUALTotalasof3/31/15',\n",
    "'7.4Membermonths7HealthInsuranceSMALLGROUPTotalasof3/31/15',\n",
    "'1.9FederalTransitionalReinsuranceProgrampaymentsexpectedfromHHS(asindicatedbyHHSasof6/30)2HealthInsuranceINDIVIDUALTotalasof3/31/15',\n",
    "'1.10FederalRiskAdjustmentProgramnetpaymentsexpectedfromHHS/(chargespayabletoHHS)(asindicatedbyHHSasof6/30)2HealthInsuranceINDIVIDUALTotalasof3/31/15',\n",
    "'1.10FederalRiskAdjustmentProgramnetpaymentsexpectedfromHHS/(chargespayabletoHHS)(asindicatedbyHHSasof6/30)7HealthInsuranceSMALLGROUPTotalasof3/31/15',\n",
    "'REINSURANCE PAYMENT AMOUNT (OR NOT ELIGIBLE)',\n",
    "'HHS RISK ADJUSTMENT TRANSFER AMOUNT (INDIVIDUAL MARKET, INCLUDING CATASTROPHIC)',\n",
    "'HHS RISK ADJUSTMENT TRANSFERS AMOUNT (SMALL GROUP MARKET)',\n",
    "'Not-For-Profit:']]\n",
    "s2015 = s2015.rename(\n",
    "    columns={'7.4Membermonths2HealthInsuranceINDIVIDUALTotalasof3/31/15': 'MEMBER_MONTHS_INDIVIDUAL:',\n",
    "            '7.4Membermonths7HealthInsuranceSMALLGROUPTotalasof3/31/15': 'MEMBER_MONTHS_SMALL_GROUP',\n",
    "            '1.9FederalTransitionalReinsuranceProgrampaymentsexpectedfromHHS(asindicatedbyHHSasof6/30)2HealthInsuranceINDIVIDUALTotalasof3/31/15': 'EXPECTED_REINSURANCE',\n",
    "            '1.10FederalRiskAdjustmentProgramnetpaymentsexpectedfromHHS/(chargespayabletoHHS)(asindicatedbyHHSasof6/30)2HealthInsuranceINDIVIDUALTotalasof3/31/15': 'EXPECTED_RISK_ADJUSTMENT_INDIVIDUAL',\n",
    "            '1.10FederalRiskAdjustmentProgramnetpaymentsexpectedfromHHS/(chargespayabletoHHS)(asindicatedbyHHSasof6/30)7HealthInsuranceSMALLGROUPTotalasof3/31/15': 'EXPECTED_RISK_ADJUSTMENT_SMALL_GROUP'\n",
    "            })\n",
    "s2015.head()\n",
    "s2015.to_csv(\"2015_final_condensed.csv\")"
   ]
  },
  {
   "cell_type": "code",
   "execution_count": null,
   "metadata": {
    "collapsed": true
   },
   "outputs": [],
   "source": []
  },
  {
   "cell_type": "code",
   "execution_count": null,
   "metadata": {
    "collapsed": true
   },
   "outputs": [],
   "source": []
  }
 ],
 "metadata": {
  "kernelspec": {
   "display_name": "Python 3",
   "language": "python",
   "name": "python3"
  },
  "language_info": {
   "codemirror_mode": {
    "name": "ipython",
    "version": 3
   },
   "file_extension": ".py",
   "mimetype": "text/x-python",
   "name": "python",
   "nbconvert_exporter": "python",
   "pygments_lexer": "ipython3",
   "version": "3.6.1"
  }
 },
 "nbformat": 4,
 "nbformat_minor": 2
}
